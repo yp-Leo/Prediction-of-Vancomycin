{
 "cells": [
  {
   "cell_type": "code",
   "execution_count": 1,
   "metadata": {
    "collapsed": true
   },
   "outputs": [
    {
     "name": "stderr",
     "output_type": "stream",
     "text": [
      "D:\\Anaconda3\\lib\\site-packages\\sklearn\\ensemble\\weight_boosting.py:29: DeprecationWarning: numpy.core.umath_tests is an internal NumPy module and should not be imported. It will be removed in a future NumPy release.\n",
      "  from numpy.core.umath_tests import inner1d\n"
     ]
    }
   ],
   "source": [
    "# 基础工具\n",
    "import numpy as np\n",
    "import pandas as pd\n",
    "from pandas import Series,DataFrame\n",
    "from scipy.special import jn\n",
    "import seaborn as sns\n",
    "import pylab as pl\n",
    "import matplotlib.pyplot as plt\n",
    "from IPython.display import display,clear_output,Image\n",
    "import re  ## re.split\n",
    "import csv ## csv文件读写\n",
    "import time\n",
    "import datetime\n",
    "from datetime import datetime as dt\n",
    "\n",
    "import math\n",
    "from math import isnan\n",
    "from numpy import mean\n",
    "import warnings\n",
    "\n",
    "warnings.filterwarnings('ignore')\n",
    "%matplotlib inline\n",
    "\n",
    "## 模型预测\n",
    "from sklearn import tree\n",
    "from sklearn import linear_model\n",
    "from sklearn import preprocessing\n",
    "from sklearn.tree import DecisionTreeClassifier\n",
    "from sklearn.svm import SVR\n",
    "from sklearn.ensemble import RandomForestRegressor,GradientBoostingRegressor\n",
    "\n",
    "# 数据降维处理的\n",
    "from sklearn.decomposition import PCA,FastICA,FactorAnalysis,SparsePCA\n",
    "\n",
    "import lightgbm as lgb\n",
    "import xgboost as xgb\n",
    "\n",
    "## 参数搜索和评价的\n",
    "from sklearn.model_selection import GridSearchCV,cross_val_score,StratifiedKFold,train_test_split\n",
    "from sklearn.metrics import mean_squared_error, mean_absolute_error,accuracy_score,confusion_matrix,r2_score\n",
    "\n",
    "#import pydotplus"
   ]
  },
  {
   "cell_type": "code",
   "execution_count": 6,
   "metadata": {},
   "outputs": [],
   "source": [
    "df = pd.read_excel(r'../data/Vanc(fill).xlsx')\n",
    "df = df.drop(columns=['Unnamed: 0'])\n",
    "\n",
    "df_tdm = pd.read_excel(r'../data/Vanc_PICU(children).xlsx')"
   ]
  },
  {
   "cell_type": "code",
   "execution_count": 7,
   "metadata": {},
   "outputs": [],
   "source": [
    "df_1 =  pd.concat([df, df_tdm[['谷浓度','剂量', '间隔', '静滴时间','身高 cm (按年龄公式计算的)']]],axis=1)\n",
    "df_1 = df_1.drop(columns=['AUC(mg/h/L)','日剂量.mg'])"
   ]
  },
  {
   "cell_type": "code",
   "execution_count": 8,
   "metadata": {},
   "outputs": [],
   "source": [
    "df_1 = df_1[['谷浓度', '剂量', '间隔', '静滴时间', '年龄', '身高 cm (按年龄公式计算的)', '性别.男0.女1.', '体重.kg', \n",
    "             '计算的肌酐清除率ml.min.1.73m2', '降钙素原', '谷丙转氨酶', '总胆红素', '谷草转氨酶', '直接胆红素',\n",
    "             '总蛋白', '尿酸umol.L', '血红蛋白', '白细胞计数', '中性粒细胞.', '淋巴细胞', '红细胞计数', '红细胞压积',\n",
    "             '血小板计数', 'C反应蛋白']]"
   ]
  },
  {
   "cell_type": "code",
   "execution_count": 9,
   "metadata": {},
   "outputs": [],
   "source": [
    "df_1 = df_1.rename(columns={'谷浓度':'tdm','剂量':'dose','间隔':'interval','静滴时间':'Ins_time','年龄':'age',\\\n",
    "                            '身高 cm (按年龄公式计算的)':'height','性别.男0.女1.':'gender','体重.kg':'weight',\\\n",
    "                            '计算的肌酐清除率ml.min.1.73m2':'Ccr','降钙素原':'Procalcitonin','谷丙转氨酶':'ALT',\\\n",
    "                            '谷草转氨酶':'AST','总胆红素':'TBil','直接胆红素':'DBil','总蛋白':'TP','尿酸umol.L':'uric_acid',\\\n",
    "                            '血红蛋白':'HGB','白细胞计数':'WBC','中性粒细胞.':'Neutrophils%','淋巴细胞':'Lymphocytes%',\\\n",
    "                            '红细胞计数':'RBC','红细胞压积':'Hematocrit','血小板计数':'PLT','C反应蛋白':'CRP'})"
   ]
  },
  {
   "cell_type": "code",
   "execution_count": 10,
   "metadata": {},
   "outputs": [],
   "source": [
    "writer = pd.ExcelWriter(r'../data/create_data/Vanc_final.xlsx')\n",
    "df_1.to_excel(writer)\n",
    "writer.save()"
   ]
  }
 ],
 "metadata": {
  "kernelspec": {
   "display_name": "Python 3",
   "language": "python",
   "name": "python3"
  },
  "language_info": {
   "codemirror_mode": {
    "name": "ipython",
    "version": 3
   },
   "file_extension": ".py",
   "mimetype": "text/x-python",
   "name": "python",
   "nbconvert_exporter": "python",
   "pygments_lexer": "ipython3",
   "version": "3.6.5"
  },
  "toc": {
   "base_numbering": 1,
   "nav_menu": {},
   "number_sections": true,
   "sideBar": true,
   "skip_h1_title": false,
   "title_cell": "Table of Contents",
   "title_sidebar": "Contents",
   "toc_cell": false,
   "toc_position": {},
   "toc_section_display": true,
   "toc_window_display": false
  },
  "varInspector": {
   "cols": {
    "lenName": 16,
    "lenType": 16,
    "lenVar": 40
   },
   "kernels_config": {
    "python": {
     "delete_cmd_postfix": "",
     "delete_cmd_prefix": "del ",
     "library": "var_list.py",
     "varRefreshCmd": "print(var_dic_list())"
    },
    "r": {
     "delete_cmd_postfix": ") ",
     "delete_cmd_prefix": "rm(",
     "library": "var_list.r",
     "varRefreshCmd": "cat(var_dic_list()) "
    }
   },
   "types_to_exclude": [
    "module",
    "function",
    "builtin_function_or_method",
    "instance",
    "_Feature"
   ],
   "window_display": false
  }
 },
 "nbformat": 4,
 "nbformat_minor": 2
}
